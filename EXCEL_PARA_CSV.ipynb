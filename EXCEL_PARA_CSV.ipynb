{
  "nbformat": 4,
  "nbformat_minor": 0,
  "metadata": {
    "colab": {
      "provenance": [],
      "authorship_tag": "ABX9TyOtlbmijFN6kGqqaMfSzAbS",
      "include_colab_link": true
    },
    "kernelspec": {
      "name": "python3",
      "display_name": "Python 3"
    },
    "language_info": {
      "name": "python"
    }
  },
  "cells": [
    {
      "cell_type": "markdown",
      "metadata": {
        "id": "view-in-github",
        "colab_type": "text"
      },
      "source": [
        "<a href=\"https://colab.research.google.com/github/luisfernandogbraga/ANALISE_DE_PRODUCAO_DULOREN/blob/main/EXCEL_PARA_CSV.ipynb\" target=\"_parent\"><img src=\"https://colab.research.google.com/assets/colab-badge.svg\" alt=\"Open In Colab\"/></a>"
      ]
    },
    {
      "cell_type": "code",
      "execution_count": 1,
      "metadata": {
        "id": "ZXmQBHd9XnOM"
      },
      "outputs": [],
      "source": [
        "import pandas as pd"
      ]
    },
    {
      "cell_type": "code",
      "source": [
        "import pandas as pd\n",
        "\n",
        "\n",
        "excel_file = 'C:\\Users\\Terminal\\Desktop\\ANALISE_DE_PRODUCAO_DULOREN\\controle.xlsx'\n",
        "df = pd.read_excel(excel_file)\n",
        "\n",
        "csv_file = 'C:\\Users\\Terminal\\Desktop\\ANALISE_DE_PRODUCAO_DULOREN\\controle.csv'\n",
        "df.to_csv(csv_file, index=False, sep=',')\n",
        "\n",
        "print(f'Dados tratados salvos em {csv_file}')\n"
      ],
      "metadata": {
        "colab": {
          "base_uri": "https://localhost:8080/",
          "height": 140
        },
        "id": "e3cNeY34XxqX",
        "outputId": "362e524f-5cb8-456a-f9e2-1b66f64393a3"
      },
      "execution_count": 2,
      "outputs": [
        {
          "output_type": "error",
          "ename": "SyntaxError",
          "evalue": "ignored",
          "traceback": [
            "\u001b[0;36m  File \u001b[0;32m\"<ipython-input-2-77e51ecdb099>\"\u001b[0;36m, line \u001b[0;32m4\u001b[0m\n\u001b[0;31m    excel_file = 'C:\\Users\\Terminal\\Desktop\\ANALISE_DE_PRODUCAO_DULOREN\\controle.xlsx'\u001b[0m\n\u001b[0m                                                                                      ^\u001b[0m\n\u001b[0;31mSyntaxError\u001b[0m\u001b[0;31m:\u001b[0m (unicode error) 'unicodeescape' codec can't decode bytes in position 2-3: truncated \\UXXXXXXXX escape\n"
          ]
        }
      ]
    },
    {
      "cell_type": "code",
      "source": [
        "\n"
      ],
      "metadata": {
        "id": "yKQtq_fQYXXp"
      },
      "execution_count": null,
      "outputs": []
    }
  ]
}