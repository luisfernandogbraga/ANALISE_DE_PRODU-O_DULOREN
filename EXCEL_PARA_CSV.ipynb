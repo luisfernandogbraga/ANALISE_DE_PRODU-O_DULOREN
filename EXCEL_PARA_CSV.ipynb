{
  "cells": [
    {
      "cell_type": "markdown",
      "metadata": {
        "colab_type": "text",
        "id": "view-in-github"
      },
      "source": [
        "<a href=\"https://colab.research.google.com/github/luisfernandogbraga/ANALISE_DE_PRODUCAO_DULOREN/blob/main/EXCEL_PARA_CSV.ipynb\" target=\"_parent\"><img src=\"https://colab.research.google.com/assets/colab-badge.svg\" alt=\"Open In Colab\"/></a>"
      ]
    },
    {
      "cell_type": "code",
      "execution_count": 1,
      "metadata": {},
      "outputs": [
        {
          "name": "stdout",
          "output_type": "stream",
          "text": [
            "Requirement already satisfied: odfpy in /usr/local/python/3.10.8/lib/python3.10/site-packages (1.4.1)\n",
            "Requirement already satisfied: defusedxml in /home/codespace/.local/lib/python3.10/site-packages (from odfpy) (0.7.1)\n",
            "Note: you may need to restart the kernel to use updated packages.\n"
          ]
        }
      ],
      "source": [
        "pip install odfpy"
      ]
    },
    {
      "cell_type": "code",
      "execution_count": 3,
      "metadata": {},
      "outputs": [],
      "source": [
        "import pandas as pd\n"
      ]
    },
    {
      "cell_type": "code",
      "execution_count": 4,
      "metadata": {
        "id": "yKQtq_fQYXXp"
      },
      "outputs": [
        {
          "name": "stdout",
          "output_type": "stream",
          "text": [
            "Dados tratados salvos em controle.csv\n"
          ]
        }
      ],
      "source": [
        "ods = 'controle.ods'\n",
        "df = pd.read_excel(ods, engine='odf')\n",
        "\n",
        "csv = 'controle.csv'\n",
        "try:\n",
        "    df.to_csv(csv, index=False, sep=',')\n",
        "    print(f'Dados tratados salvos em {csv}')\n",
        "except Exception as e:\n",
        "    print(f'Erro ao salvar o arquivo CSV: {e}')\n",
        "\n"
      ]
    },
    {
      "cell_type": "code",
      "execution_count": 5,
      "metadata": {},
      "outputs": [
        {
          "data": {
            "text/html": [
              "<div>\n",
              "<style scoped>\n",
              "    .dataframe tbody tr th:only-of-type {\n",
              "        vertical-align: middle;\n",
              "    }\n",
              "\n",
              "    .dataframe tbody tr th {\n",
              "        vertical-align: top;\n",
              "    }\n",
              "\n",
              "    .dataframe thead th {\n",
              "        text-align: right;\n",
              "    }\n",
              "</style>\n",
              "<table border=\"1\" class=\"dataframe\">\n",
              "  <thead>\n",
              "    <tr style=\"text-align: right;\">\n",
              "      <th></th>\n",
              "      <th>DATA</th>\n",
              "      <th>ARTIGO</th>\n",
              "      <th>MAQUINA</th>\n",
              "      <th>PESO</th>\n",
              "      <th>METRAGEM</th>\n",
              "    </tr>\n",
              "  </thead>\n",
              "  <tbody>\n",
              "    <tr>\n",
              "      <th>0</th>\n",
              "      <td>2023-10-30</td>\n",
              "      <td>BALLI 16</td>\n",
              "      <td>817</td>\n",
              "      <td>2.4</td>\n",
              "      <td>998.4</td>\n",
              "    </tr>\n",
              "    <tr>\n",
              "      <th>1</th>\n",
              "      <td>2023-10-30</td>\n",
              "      <td>BELLES 15</td>\n",
              "      <td>801</td>\n",
              "      <td>6.0</td>\n",
              "      <td>1284.0</td>\n",
              "    </tr>\n",
              "    <tr>\n",
              "      <th>2</th>\n",
              "      <td>2023-10-30</td>\n",
              "      <td>MURITI 10</td>\n",
              "      <td>805</td>\n",
              "      <td>18.6</td>\n",
              "      <td>3534.0</td>\n",
              "    </tr>\n",
              "    <tr>\n",
              "      <th>3</th>\n",
              "      <td>2023-10-30</td>\n",
              "      <td>BALLI 16</td>\n",
              "      <td>815</td>\n",
              "      <td>2.4</td>\n",
              "      <td>998.4</td>\n",
              "    </tr>\n",
              "    <tr>\n",
              "      <th>4</th>\n",
              "      <td>2023-10-30</td>\n",
              "      <td>BELLES 15</td>\n",
              "      <td>814</td>\n",
              "      <td>7.8</td>\n",
              "      <td>1669.2</td>\n",
              "    </tr>\n",
              "  </tbody>\n",
              "</table>\n",
              "</div>"
            ],
            "text/plain": [
              "        DATA     ARTIGO  MAQUINA  PESO  METRAGEM\n",
              "0 2023-10-30   BALLI 16      817   2.4     998.4\n",
              "1 2023-10-30  BELLES 15      801   6.0    1284.0\n",
              "2 2023-10-30  MURITI 10      805  18.6    3534.0\n",
              "3 2023-10-30   BALLI 16      815   2.4     998.4\n",
              "4 2023-10-30  BELLES 15      814   7.8    1669.2"
            ]
          },
          "execution_count": 5,
          "metadata": {},
          "output_type": "execute_result"
        }
      ],
      "source": [
        "df.head()"
      ]
    },
    {
      "cell_type": "code",
      "execution_count": 5,
      "metadata": {},
      "outputs": [
        {
          "name": "stdout",
          "output_type": "stream",
          "text": [
            "<class 'pandas.core.frame.DataFrame'>\n",
            "RangeIndex: 383 entries, 0 to 382\n",
            "Data columns (total 5 columns):\n",
            " #   Column    Non-Null Count  Dtype         \n",
            "---  ------    --------------  -----         \n",
            " 0   DATA      383 non-null    datetime64[ns]\n",
            " 1   ARTIGO    383 non-null    object        \n",
            " 2   MAQUINA   383 non-null    int64         \n",
            " 3   PESO      383 non-null    float64       \n",
            " 4   METRAGEM  383 non-null    float64       \n",
            "dtypes: datetime64[ns](1), float64(2), int64(1), object(1)\n",
            "memory usage: 15.1+ KB\n"
          ]
        }
      ],
      "source": [
        "df.info()"
      ]
    },
    {
      "cell_type": "code",
      "execution_count": null,
      "metadata": {},
      "outputs": [],
      "source": []
    }
  ],
  "metadata": {
    "colab": {
      "authorship_tag": "ABX9TyOtlbmijFN6kGqqaMfSzAbS",
      "include_colab_link": true,
      "provenance": []
    },
    "kernelspec": {
      "display_name": "Python 3 (ipykernel)",
      "language": "python",
      "name": "python3"
    }
  },
  "nbformat": 4,
  "nbformat_minor": 0
}
