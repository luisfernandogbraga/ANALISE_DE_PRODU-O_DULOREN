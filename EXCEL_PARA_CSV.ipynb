{
  "cells": [
    {
      "cell_type": "markdown",
      "metadata": {
        "colab_type": "text",
        "id": "view-in-github"
      },
      "source": [
        "<a href=\"https://colab.research.google.com/github/luisfernandogbraga/ANALISE_DE_PRODUCAO_DULOREN/blob/main/EXCEL_PARA_CSV.ipynb\" target=\"_parent\"><img src=\"https://colab.research.google.com/assets/colab-badge.svg\" alt=\"Open In Colab\"/></a>"
      ]
    },
    {
      "cell_type": "code",
      "execution_count": 3,
      "metadata": {},
      "outputs": [
        {
          "name": "stdout",
          "output_type": "stream",
          "text": [
            "Collecting odfpy\n",
            "  Downloading odfpy-1.4.1.tar.gz (717 kB)\n",
            "     ---------------------------------------- 0.0/717.0 kB ? eta -:--:--\n",
            "     - ----------------------------------- 30.7/717.0 kB 640.0 kB/s eta 0:00:02\n",
            "     ------------------------------------- 717.0/717.0 kB 11.2 MB/s eta 0:00:00\n",
            "  Installing build dependencies: started\n",
            "  Installing build dependencies: finished with status 'done'\n",
            "  Getting requirements to build wheel: started\n",
            "  Getting requirements to build wheel: finished with status 'done'\n",
            "  Preparing metadata (pyproject.toml): started\n",
            "  Preparing metadata (pyproject.toml): finished with status 'done'\n",
            "Collecting defusedxml (from odfpy)\n",
            "  Downloading defusedxml-0.7.1-py2.py3-none-any.whl (25 kB)\n",
            "Building wheels for collected packages: odfpy\n",
            "  Building wheel for odfpy (pyproject.toml): started\n",
            "  Building wheel for odfpy (pyproject.toml): finished with status 'done'\n",
            "  Created wheel for odfpy: filename=odfpy-1.4.1-py2.py3-none-any.whl size=137513 sha256=fa22ecad09261f0bfda71650a1fd7c2cde1b100fcf1754e98b5410c18e2dc84a\n",
            "  Stored in directory: c:\\users\\dulor\\appdata\\local\\pip\\cache\\wheels\\36\\5d\\63\\8243a7ee78fff0f944d638fd0e66d7278888f5e2285d7346b6\n",
            "Successfully built odfpy\n",
            "Installing collected packages: defusedxml, odfpy\n",
            "Successfully installed defusedxml-0.7.1 odfpy-1.4.1\n",
            "Note: you may need to restart the kernel to use updated packages.\n"
          ]
        },
        {
          "name": "stderr",
          "output_type": "stream",
          "text": [
            "\n",
            "[notice] A new release of pip is available: 23.2.1 -> 23.3.2\n",
            "[notice] To update, run: python.exe -m pip install --upgrade pip\n"
          ]
        }
      ],
      "source": [
        "pip install odfpy"
      ]
    },
    {
      "cell_type": "code",
      "execution_count": 1,
      "metadata": {},
      "outputs": [],
      "source": [
        "import pandas as pd\n",
        "import sqlite3"
      ]
    },
    {
      "cell_type": "code",
      "execution_count": 4,
      "metadata": {
        "id": "yKQtq_fQYXXp"
      },
      "outputs": [
        {
          "name": "stdout",
          "output_type": "stream",
          "text": [
            "Dados tratados salvos em Arquivo.csv\n"
          ]
        }
      ],
      "source": [
        "ods = 'controle.ods'\n",
        "df = pd.read_excel(ods, engine='odf')\n",
        "\n",
        "csv = 'Arquivo.csv'\n",
        "try:\n",
        "    df.to_csv(csv, index=False, sep=',')\n",
        "    print(f'Dados tratados salvos em {csv}')\n",
        "except Exception as e:\n",
        "    print(f'Erro ao salvar o arquivo CSV: {e}')\n",
        "\n"
      ]
    },
    {
      "cell_type": "code",
      "execution_count": 5,
      "metadata": {},
      "outputs": [],
      "source": [
        "data= 'producao.db' #aqr sql\n",
        "csv= 'Arquivo.csv' #csv\n",
        "table= 'producao' # tabela do arq sql\n",
        "\n",
        "conn= sqlite3.connect(data) #carrgando o arq\n",
        "df= pd.read_csv(csv) #carregando o csv\n",
        "df.to_sql(table, conn, index=False, if_exists='replace') #salvando o csv no arq slq\n",
        "\n",
        "conn.close() #fechando a conecçao"
      ]
    },
    {
      "cell_type": "code",
      "execution_count": 6,
      "metadata": {},
      "outputs": [
        {
          "data": {
            "text/html": [
              "<div>\n",
              "<style scoped>\n",
              "    .dataframe tbody tr th:only-of-type {\n",
              "        vertical-align: middle;\n",
              "    }\n",
              "\n",
              "    .dataframe tbody tr th {\n",
              "        vertical-align: top;\n",
              "    }\n",
              "\n",
              "    .dataframe thead th {\n",
              "        text-align: right;\n",
              "    }\n",
              "</style>\n",
              "<table border=\"1\" class=\"dataframe\">\n",
              "  <thead>\n",
              "    <tr style=\"text-align: right;\">\n",
              "      <th></th>\n",
              "      <th>DATA</th>\n",
              "      <th>ARTIGO</th>\n",
              "      <th>MAQUINA</th>\n",
              "      <th>PESO</th>\n",
              "      <th>METRAGEM</th>\n",
              "    </tr>\n",
              "  </thead>\n",
              "  <tbody>\n",
              "    <tr>\n",
              "      <th>0</th>\n",
              "      <td>2023-10-30</td>\n",
              "      <td>BALLI 16</td>\n",
              "      <td>817</td>\n",
              "      <td>2.4</td>\n",
              "      <td>998.400</td>\n",
              "    </tr>\n",
              "    <tr>\n",
              "      <th>1</th>\n",
              "      <td>2023-10-30</td>\n",
              "      <td>BELLES 15</td>\n",
              "      <td>801</td>\n",
              "      <td>6.0</td>\n",
              "      <td>1284.000</td>\n",
              "    </tr>\n",
              "    <tr>\n",
              "      <th>2</th>\n",
              "      <td>2023-10-30</td>\n",
              "      <td>MURITI 10</td>\n",
              "      <td>805</td>\n",
              "      <td>18.6</td>\n",
              "      <td>3534.000</td>\n",
              "    </tr>\n",
              "    <tr>\n",
              "      <th>3</th>\n",
              "      <td>2023-10-30</td>\n",
              "      <td>BALLI 16</td>\n",
              "      <td>815</td>\n",
              "      <td>2.4</td>\n",
              "      <td>998.400</td>\n",
              "    </tr>\n",
              "    <tr>\n",
              "      <th>4</th>\n",
              "      <td>2023-10-30</td>\n",
              "      <td>BELLES 15</td>\n",
              "      <td>814</td>\n",
              "      <td>7.8</td>\n",
              "      <td>1669.200</td>\n",
              "    </tr>\n",
              "    <tr>\n",
              "      <th>...</th>\n",
              "      <td>...</td>\n",
              "      <td>...</td>\n",
              "      <td>...</td>\n",
              "      <td>...</td>\n",
              "      <td>...</td>\n",
              "    </tr>\n",
              "    <tr>\n",
              "      <th>505</th>\n",
              "      <td>2024-01-04</td>\n",
              "      <td>STILED 18</td>\n",
              "      <td>825</td>\n",
              "      <td>20.0</td>\n",
              "      <td>2680.000</td>\n",
              "    </tr>\n",
              "    <tr>\n",
              "      <th>506</th>\n",
              "      <td>2024-01-04</td>\n",
              "      <td>STILED 18</td>\n",
              "      <td>827</td>\n",
              "      <td>16.8</td>\n",
              "      <td>2251.200</td>\n",
              "    </tr>\n",
              "    <tr>\n",
              "      <th>507</th>\n",
              "      <td>2024-01-04</td>\n",
              "      <td>BELLES 15</td>\n",
              "      <td>807</td>\n",
              "      <td>11.5</td>\n",
              "      <td>2461.000</td>\n",
              "    </tr>\n",
              "    <tr>\n",
              "      <th>508</th>\n",
              "      <td>2024-01-04</td>\n",
              "      <td>16/53</td>\n",
              "      <td>904</td>\n",
              "      <td>10.5</td>\n",
              "      <td>2370.690</td>\n",
              "    </tr>\n",
              "    <tr>\n",
              "      <th>509</th>\n",
              "      <td>2024-01-04</td>\n",
              "      <td>16/53</td>\n",
              "      <td>904</td>\n",
              "      <td>10.7</td>\n",
              "      <td>2415.846</td>\n",
              "    </tr>\n",
              "  </tbody>\n",
              "</table>\n",
              "<p>510 rows × 5 columns</p>\n",
              "</div>"
            ],
            "text/plain": [
              "           DATA     ARTIGO  MAQUINA  PESO  METRAGEM\n",
              "0    2023-10-30   BALLI 16      817   2.4   998.400\n",
              "1    2023-10-30  BELLES 15      801   6.0  1284.000\n",
              "2    2023-10-30  MURITI 10      805  18.6  3534.000\n",
              "3    2023-10-30   BALLI 16      815   2.4   998.400\n",
              "4    2023-10-30  BELLES 15      814   7.8  1669.200\n",
              "..          ...        ...      ...   ...       ...\n",
              "505  2024-01-04  STILED 18      825  20.0  2680.000\n",
              "506  2024-01-04  STILED 18      827  16.8  2251.200\n",
              "507  2024-01-04  BELLES 15      807  11.5  2461.000\n",
              "508  2024-01-04      16/53      904  10.5  2370.690\n",
              "509  2024-01-04      16/53      904  10.7  2415.846\n",
              "\n",
              "[510 rows x 5 columns]"
            ]
          },
          "metadata": {},
          "output_type": "display_data"
        }
      ],
      "source": [
        "display(df)"
      ]
    },
    {
      "cell_type": "code",
      "execution_count": 7,
      "metadata": {},
      "outputs": [
        {
          "name": "stdout",
          "output_type": "stream",
          "text": [
            "<class 'pandas.core.frame.DataFrame'>\n",
            "RangeIndex: 510 entries, 0 to 509\n",
            "Data columns (total 5 columns):\n",
            " #   Column    Non-Null Count  Dtype  \n",
            "---  ------    --------------  -----  \n",
            " 0   DATA      510 non-null    object \n",
            " 1   ARTIGO    510 non-null    object \n",
            " 2   MAQUINA   510 non-null    int64  \n",
            " 3   PESO      510 non-null    float64\n",
            " 4   METRAGEM  510 non-null    float64\n",
            "dtypes: float64(2), int64(1), object(2)\n",
            "memory usage: 20.1+ KB\n"
          ]
        }
      ],
      "source": [
        "df.info()"
      ]
    }
  ],
  "metadata": {
    "colab": {
      "authorship_tag": "ABX9TyOtlbmijFN6kGqqaMfSzAbS",
      "include_colab_link": true,
      "provenance": []
    },
    "kernelspec": {
      "display_name": "Python 3 (ipykernel)",
      "language": "python",
      "name": "python3"
    },
    "language_info": {
      "codemirror_mode": {
        "name": "ipython",
        "version": 3
      },
      "file_extension": ".py",
      "mimetype": "text/x-python",
      "name": "python",
      "nbconvert_exporter": "python",
      "pygments_lexer": "ipython3",
      "version": "3.12.1"
    }
  },
  "nbformat": 4,
  "nbformat_minor": 0
}
