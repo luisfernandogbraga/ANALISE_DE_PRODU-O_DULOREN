{
  "cells": [
    {
      "cell_type": "markdown",
      "metadata": {
        "colab_type": "text",
        "id": "view-in-github"
      },
      "source": [
        "<a href=\"https://colab.research.google.com/github/luisfernandogbraga/ANALISE_DE_PRODUCAO_DULOREN/blob/main/EXCEL_PARA_CSV.ipynb\" target=\"_parent\"><img src=\"https://colab.research.google.com/assets/colab-badge.svg\" alt=\"Open In Colab\"/></a>"
      ]
    },
    {
      "cell_type": "code",
      "execution_count": 1,
      "metadata": {},
      "outputs": [
        {
          "name": "stdout",
          "output_type": "stream",
          "text": [
            "Requirement already satisfied: odfpy in /usr/local/python/3.10.8/lib/python3.10/site-packages (1.4.1)\n",
            "Requirement already satisfied: defusedxml in /home/codespace/.local/lib/python3.10/site-packages (from odfpy) (0.7.1)\n",
            "Note: you may need to restart the kernel to use updated packages.\n"
          ]
        }
      ],
      "source": [
        "pip install odfpy"
      ]
    },
    {
      "cell_type": "code",
      "execution_count": 1,
      "metadata": {},
      "outputs": [],
      "source": [
        "import pandas as pd\n",
        "import sqlite3"
      ]
    },
    {
      "cell_type": "code",
      "execution_count": 2,
      "metadata": {
        "id": "yKQtq_fQYXXp"
      },
      "outputs": [
        {
          "name": "stdout",
          "output_type": "stream",
          "text": [
            "Dados tratados salvos em Arquivo.csv\n"
          ]
        }
      ],
      "source": [
        "ods = 'controle.ods'\n",
        "df = pd.read_excel(ods, engine='odf')\n",
        "\n",
        "csv = 'Arquivo.csv'\n",
        "try:\n",
        "    df.to_csv(csv, index=False, sep=',')\n",
        "    print(f'Dados tratados salvos em {csv}')\n",
        "except Exception as e:\n",
        "    print(f'Erro ao salvar o arquivo CSV: {e}')\n",
        "\n"
      ]
    },
    {
      "cell_type": "code",
      "execution_count": 3,
      "metadata": {},
      "outputs": [],
      "source": [
        "data= 'producao.db' #aqr sql\n",
        "csv= 'Arquivo.csv' #csv\n",
        "table= 'producao' # tabela do arq sql\n",
        "\n",
        "conn= sqlite3.connect(data) #carrgando o arq\n",
        "df= pd.read_csv(csv) #carregando o csv\n",
        "df.to_sql(table, conn, index=False, if_exists='replace') #salvando o csv no arq slq\n",
        "\n",
        "conn.close() #fechando a conecçao"
      ]
    },
    {
      "cell_type": "code",
      "execution_count": 5,
      "metadata": {},
      "outputs": [
        {
          "data": {
            "text/html": [
              "<div>\n",
              "<style scoped>\n",
              "    .dataframe tbody tr th:only-of-type {\n",
              "        vertical-align: middle;\n",
              "    }\n",
              "\n",
              "    .dataframe tbody tr th {\n",
              "        vertical-align: top;\n",
              "    }\n",
              "\n",
              "    .dataframe thead th {\n",
              "        text-align: right;\n",
              "    }\n",
              "</style>\n",
              "<table border=\"1\" class=\"dataframe\">\n",
              "  <thead>\n",
              "    <tr style=\"text-align: right;\">\n",
              "      <th></th>\n",
              "      <th>DATA</th>\n",
              "      <th>ARTIGO</th>\n",
              "      <th>MAQUINA</th>\n",
              "      <th>PESO</th>\n",
              "      <th>METRAGEM</th>\n",
              "    </tr>\n",
              "  </thead>\n",
              "  <tbody>\n",
              "    <tr>\n",
              "      <th>0</th>\n",
              "      <td>2023-10-30</td>\n",
              "      <td>BALLI 16</td>\n",
              "      <td>817</td>\n",
              "      <td>2.4</td>\n",
              "      <td>998.40</td>\n",
              "    </tr>\n",
              "    <tr>\n",
              "      <th>1</th>\n",
              "      <td>2023-10-30</td>\n",
              "      <td>BELLES 15</td>\n",
              "      <td>801</td>\n",
              "      <td>6.0</td>\n",
              "      <td>1284.00</td>\n",
              "    </tr>\n",
              "    <tr>\n",
              "      <th>2</th>\n",
              "      <td>2023-10-30</td>\n",
              "      <td>MURITI 10</td>\n",
              "      <td>805</td>\n",
              "      <td>18.6</td>\n",
              "      <td>3534.00</td>\n",
              "    </tr>\n",
              "    <tr>\n",
              "      <th>3</th>\n",
              "      <td>2023-10-30</td>\n",
              "      <td>BALLI 16</td>\n",
              "      <td>815</td>\n",
              "      <td>2.4</td>\n",
              "      <td>998.40</td>\n",
              "    </tr>\n",
              "    <tr>\n",
              "      <th>4</th>\n",
              "      <td>2023-10-30</td>\n",
              "      <td>BELLES 15</td>\n",
              "      <td>814</td>\n",
              "      <td>7.8</td>\n",
              "      <td>1669.20</td>\n",
              "    </tr>\n",
              "    <tr>\n",
              "      <th>...</th>\n",
              "      <td>...</td>\n",
              "      <td>...</td>\n",
              "      <td>...</td>\n",
              "      <td>...</td>\n",
              "      <td>...</td>\n",
              "    </tr>\n",
              "    <tr>\n",
              "      <th>420</th>\n",
              "      <td>2023-12-06</td>\n",
              "      <td>BELLES 15</td>\n",
              "      <td>810</td>\n",
              "      <td>10.6</td>\n",
              "      <td>2268.40</td>\n",
              "    </tr>\n",
              "    <tr>\n",
              "      <th>421</th>\n",
              "      <td>2023-12-06</td>\n",
              "      <td>MURITI 10</td>\n",
              "      <td>906</td>\n",
              "      <td>10.3</td>\n",
              "      <td>399.64</td>\n",
              "    </tr>\n",
              "    <tr>\n",
              "      <th>422</th>\n",
              "      <td>2023-12-06</td>\n",
              "      <td>MURITI 10</td>\n",
              "      <td>906</td>\n",
              "      <td>10.3</td>\n",
              "      <td>399.64</td>\n",
              "    </tr>\n",
              "    <tr>\n",
              "      <th>423</th>\n",
              "      <td>2023-12-06</td>\n",
              "      <td>MURITI 10</td>\n",
              "      <td>903</td>\n",
              "      <td>9.4</td>\n",
              "      <td>364.72</td>\n",
              "    </tr>\n",
              "    <tr>\n",
              "      <th>424</th>\n",
              "      <td>2023-12-06</td>\n",
              "      <td>MURITI 10</td>\n",
              "      <td>903</td>\n",
              "      <td>9.6</td>\n",
              "      <td>372.48</td>\n",
              "    </tr>\n",
              "  </tbody>\n",
              "</table>\n",
              "<p>425 rows × 5 columns</p>\n",
              "</div>"
            ],
            "text/plain": [
              "           DATA     ARTIGO  MAQUINA  PESO  METRAGEM\n",
              "0    2023-10-30   BALLI 16      817   2.4    998.40\n",
              "1    2023-10-30  BELLES 15      801   6.0   1284.00\n",
              "2    2023-10-30  MURITI 10      805  18.6   3534.00\n",
              "3    2023-10-30   BALLI 16      815   2.4    998.40\n",
              "4    2023-10-30  BELLES 15      814   7.8   1669.20\n",
              "..          ...        ...      ...   ...       ...\n",
              "420  2023-12-06  BELLES 15      810  10.6   2268.40\n",
              "421  2023-12-06  MURITI 10      906  10.3    399.64\n",
              "422  2023-12-06  MURITI 10      906  10.3    399.64\n",
              "423  2023-12-06  MURITI 10      903   9.4    364.72\n",
              "424  2023-12-06  MURITI 10      903   9.6    372.48\n",
              "\n",
              "[425 rows x 5 columns]"
            ]
          },
          "metadata": {},
          "output_type": "display_data"
        }
      ],
      "source": [
        "display(df)"
      ]
    },
    {
      "cell_type": "code",
      "execution_count": 6,
      "metadata": {},
      "outputs": [
        {
          "name": "stdout",
          "output_type": "stream",
          "text": [
            "<class 'pandas.core.frame.DataFrame'>\n",
            "RangeIndex: 425 entries, 0 to 424\n",
            "Data columns (total 5 columns):\n",
            " #   Column    Non-Null Count  Dtype  \n",
            "---  ------    --------------  -----  \n",
            " 0   DATA      425 non-null    object \n",
            " 1   ARTIGO    425 non-null    object \n",
            " 2   MAQUINA   425 non-null    int64  \n",
            " 3   PESO      425 non-null    float64\n",
            " 4   METRAGEM  425 non-null    float64\n",
            "dtypes: float64(2), int64(1), object(2)\n",
            "memory usage: 16.7+ KB\n"
          ]
        }
      ],
      "source": [
        "df.info()"
      ]
    }
  ],
  "metadata": {
    "colab": {
      "authorship_tag": "ABX9TyOtlbmijFN6kGqqaMfSzAbS",
      "include_colab_link": true,
      "provenance": []
    },
    "kernelspec": {
      "display_name": "Python 3 (ipykernel)",
      "language": "python",
      "name": "python3"
    },
    "language_info": {
      "codemirror_mode": {
        "name": "ipython",
        "version": 3
      },
      "file_extension": ".py",
      "mimetype": "text/x-python",
      "name": "python",
      "nbconvert_exporter": "python",
      "pygments_lexer": "ipython3",
      "version": "3.11.2"
    }
  },
  "nbformat": 4,
  "nbformat_minor": 0
}
