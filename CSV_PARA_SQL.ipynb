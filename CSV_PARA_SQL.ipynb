{
 "cells": [
  {
   "cell_type": "code",
   "execution_count": 1,
   "metadata": {},
   "outputs": [],
   "source": [
    "import sqlite3\n",
    "import pandas as pd"
   ]
  },
  {
   "cell_type": "code",
   "execution_count": 2,
   "metadata": {},
   "outputs": [],
   "source": [
    "data= 'producao.db' #aqr sql\n",
    "csv= 'controle.csv' #csv\n",
    "table= 'producao' # tabela do arq sql\n",
    "\n",
    "conn= sqlite3.connect(data) #carrgando o arq\n",
    "df= pd.read_csv(csv) #carregando o csv\n",
    "df.to_sql(table, conn, index=False, if_exists='replace') #salvando o csv no arq slq \n",
    "\n",
    "conn.close() #fechando a conecçao"
   ]
  }
 ],
 "metadata": {
  "kernelspec": {
   "display_name": "Python 3",
   "language": "python",
   "name": "python3"
  },
  "language_info": {
   "codemirror_mode": {
    "name": "ipython",
    "version": 3
   },
   "file_extension": ".py",
   "mimetype": "text/x-python",
   "name": "python",
   "nbconvert_exporter": "python",
   "pygments_lexer": "ipython3",
   "version": "3.11.2"
  }
 },
 "nbformat": 4,
 "nbformat_minor": 2
}
