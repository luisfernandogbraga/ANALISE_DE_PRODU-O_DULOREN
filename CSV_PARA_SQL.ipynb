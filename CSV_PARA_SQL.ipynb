{
  "cells": [
    {
      "cell_type": "markdown",
      "metadata": {
        "colab_type": "text",
        "id": "view-in-github"
      },
      "source": [
        "<a href=\"https://colab.research.google.com/github/luisfernandogbraga/ANALISE_DE_PRODUCAO_DULOREN/blob/main/EXCEL_PARA_CSV.ipynb\" target=\"_parent\"><img src=\"https://colab.research.google.com/assets/colab-badge.svg\" alt=\"Open In Colab\"/></a>"
      ]
    },
    {
      "cell_type": "code",
      "execution_count": 4,
      "metadata": {},
      "outputs": [],
      "source": [
        "import pandas as pd\n",
        "import sqlite3"
      ]
    },
    {
      "cell_type": "code",
      "execution_count": 6,
      "metadata": {},
      "outputs": [],
      "source": [
        "df= pd.read_csv('Arquivo.csv') # abrindo um csv em um df \n",
        "\n",
        "conn= sqlite3.connect('producao.db') #carrgando o arq\n",
        "df.to_sql('producao', conn, index=False, if_exists='replace') #salvando o csv no arq slq\n",
        "\n",
        "conn.close() #fechando a conecçao\n",
        "\n",
        "# csv = Arquivo.csv\n",
        "# sql = producao.db\n",
        "# table = producao"
      ]
    },
    {
      "cell_type": "code",
      "execution_count": 7,
      "metadata": {},
      "outputs": [
        {
          "data": {
            "text/html": [
              "<div>\n",
              "<style scoped>\n",
              "    .dataframe tbody tr th:only-of-type {\n",
              "        vertical-align: middle;\n",
              "    }\n",
              "\n",
              "    .dataframe tbody tr th {\n",
              "        vertical-align: top;\n",
              "    }\n",
              "\n",
              "    .dataframe thead th {\n",
              "        text-align: right;\n",
              "    }\n",
              "</style>\n",
              "<table border=\"1\" class=\"dataframe\">\n",
              "  <thead>\n",
              "    <tr style=\"text-align: right;\">\n",
              "      <th></th>\n",
              "      <th>DATA</th>\n",
              "      <th>ARTIGO</th>\n",
              "      <th>MAQUINA</th>\n",
              "      <th>METRAGEM</th>\n",
              "    </tr>\n",
              "  </thead>\n",
              "  <tbody>\n",
              "    <tr>\n",
              "      <th>0</th>\n",
              "      <td>2023-10-30</td>\n",
              "      <td>BALLI 16</td>\n",
              "      <td>817</td>\n",
              "      <td>998.4</td>\n",
              "    </tr>\n",
              "    <tr>\n",
              "      <th>1</th>\n",
              "      <td>2023-10-30</td>\n",
              "      <td>BELLES 15</td>\n",
              "      <td>801</td>\n",
              "      <td>1284.0</td>\n",
              "    </tr>\n",
              "    <tr>\n",
              "      <th>2</th>\n",
              "      <td>2023-10-30</td>\n",
              "      <td>MURITI 10</td>\n",
              "      <td>805</td>\n",
              "      <td>3534.0</td>\n",
              "    </tr>\n",
              "    <tr>\n",
              "      <th>3</th>\n",
              "      <td>2023-10-30</td>\n",
              "      <td>BALLI 16</td>\n",
              "      <td>815</td>\n",
              "      <td>998.4</td>\n",
              "    </tr>\n",
              "    <tr>\n",
              "      <th>4</th>\n",
              "      <td>2023-10-30</td>\n",
              "      <td>BELLES 15</td>\n",
              "      <td>814</td>\n",
              "      <td>1669.2</td>\n",
              "    </tr>\n",
              "    <tr>\n",
              "      <th>...</th>\n",
              "      <td>...</td>\n",
              "      <td>...</td>\n",
              "      <td>...</td>\n",
              "      <td>...</td>\n",
              "    </tr>\n",
              "    <tr>\n",
              "      <th>530</th>\n",
              "      <td>2024-01-12</td>\n",
              "      <td>BELLES 15</td>\n",
              "      <td>850</td>\n",
              "      <td>2782.0</td>\n",
              "    </tr>\n",
              "    <tr>\n",
              "      <th>531</th>\n",
              "      <td>2024-01-12</td>\n",
              "      <td>STILED 18</td>\n",
              "      <td>827</td>\n",
              "      <td>1929.6</td>\n",
              "    </tr>\n",
              "    <tr>\n",
              "      <th>532</th>\n",
              "      <td>2024-01-12</td>\n",
              "      <td>STILED 18</td>\n",
              "      <td>825</td>\n",
              "      <td>1742.0</td>\n",
              "    </tr>\n",
              "    <tr>\n",
              "      <th>533</th>\n",
              "      <td>2024-01-12</td>\n",
              "      <td>BELLES 15</td>\n",
              "      <td>814</td>\n",
              "      <td>1926.0</td>\n",
              "    </tr>\n",
              "    <tr>\n",
              "      <th>534</th>\n",
              "      <td>2024-01-12</td>\n",
              "      <td>BALLI 16</td>\n",
              "      <td>815</td>\n",
              "      <td>684.0</td>\n",
              "    </tr>\n",
              "  </tbody>\n",
              "</table>\n",
              "<p>535 rows × 4 columns</p>\n",
              "</div>"
            ],
            "text/plain": [
              "           DATA     ARTIGO  MAQUINA  METRAGEM\n",
              "0    2023-10-30   BALLI 16      817     998.4\n",
              "1    2023-10-30  BELLES 15      801    1284.0\n",
              "2    2023-10-30  MURITI 10      805    3534.0\n",
              "3    2023-10-30   BALLI 16      815     998.4\n",
              "4    2023-10-30  BELLES 15      814    1669.2\n",
              "..          ...        ...      ...       ...\n",
              "530  2024-01-12  BELLES 15      850    2782.0\n",
              "531  2024-01-12  STILED 18      827    1929.6\n",
              "532  2024-01-12  STILED 18      825    1742.0\n",
              "533  2024-01-12  BELLES 15      814    1926.0\n",
              "534  2024-01-12   BALLI 16      815     684.0\n",
              "\n",
              "[535 rows x 4 columns]"
            ]
          },
          "metadata": {},
          "output_type": "display_data"
        }
      ],
      "source": [
        "display(df)"
      ]
    }
  ],
  "metadata": {
    "colab": {
      "authorship_tag": "ABX9TyOtlbmijFN6kGqqaMfSzAbS",
      "include_colab_link": true,
      "provenance": []
    },
    "kernelspec": {
      "display_name": "Python 3 (ipykernel)",
      "language": "python",
      "name": "python3"
    },
    "language_info": {
      "codemirror_mode": {
        "name": "ipython",
        "version": 3
      },
      "file_extension": ".py",
      "mimetype": "text/x-python",
      "name": "python",
      "nbconvert_exporter": "python",
      "pygments_lexer": "ipython3",
      "version": "3.12.1"
    }
  },
  "nbformat": 4,
  "nbformat_minor": 0
}
